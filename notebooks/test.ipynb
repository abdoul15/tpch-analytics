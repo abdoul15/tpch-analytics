{
 "cells": [
  {
   "cell_type": "code",
   "execution_count": 1,
   "id": "d361ab0e",
   "metadata": {},
   "outputs": [],
   "source": [
    "dico ={\"element1\":\"value1\",\"element2\":\"value2\"}"
   ]
  },
  {
   "cell_type": "code",
   "execution_count": 2,
   "id": "b3c83387",
   "metadata": {},
   "outputs": [],
   "source": [
    "liste =[f\"{k}={v}\" for k,v in dico.items() ]"
   ]
  },
  {
   "cell_type": "code",
   "execution_count": 3,
   "id": "cdf45035",
   "metadata": {},
   "outputs": [
    {
     "data": {
      "text/plain": [
       "['element1=value1', 'element2=value2']"
      ]
     },
     "execution_count": 3,
     "metadata": {},
     "output_type": "execute_result"
    }
   ],
   "source": [
    "liste"
   ]
  },
  {
   "cell_type": "code",
   "execution_count": 4,
   "id": "d6ddca40",
   "metadata": {},
   "outputs": [],
   "source": [
    "liste = \" AND \".join(liste)"
   ]
  },
  {
   "cell_type": "code",
   "execution_count": 5,
   "id": "729aa019",
   "metadata": {},
   "outputs": [
    {
     "data": {
      "text/plain": [
       "'element1=value1 AND element2=value2'"
      ]
     },
     "execution_count": 5,
     "metadata": {},
     "output_type": "execute_result"
    }
   ],
   "source": [
    "liste"
   ]
  },
  {
   "cell_type": "code",
   "execution_count": 24,
   "id": "95d6a92c",
   "metadata": {},
   "outputs": [
    {
     "name": "stdout",
     "output_type": "stream",
     "text": [
      "Processing table: Chapeau, Specific Attribute: A\n",
      "Class type: TableA\n",
      "Processing table: Chapeau, Specific Attribute: B\n",
      "Class type: TableB\n"
     ]
    }
   ],
   "source": [
    "from typing import List, Type, Optional\n",
    "\n",
    "class TableETL:\n",
    "    table_name: str = \"base_table\"\n",
    "\n",
    "class TableA(TableETL):\n",
    "    def __init__(self, table_name):\n",
    "        self.table_name = table_name  # Stockage dans l'instance\n",
    "        self.specific_attr = \"A\"  # Attribut spécifique à TableA\n",
    "\n",
    "class TableB(TableETL):\n",
    "    def __init__(self, table_name):\n",
    "        self.table_name = table_name  # Stockage dans l'instance\n",
    "        self.specific_attr = \"B\"  # Attribut spécifique à TableB\n",
    "\n",
    "# Exemple de données\n",
    "upstream_table_names: Optional[List[Type[TableETL]]] = [TableA, TableB]\n",
    "\n",
    "if upstream_table_names:\n",
    "    for table_class in upstream_table_names:\n",
    "        t1 = table_class(table_name='Chapeau')  # Instanciation\n",
    "        print(f\"Processing table: {t1.table_name}, Specific Attribute: {t1.specific_attr}\")\n",
    "        print(f\"Class type: {type(t1).__name__}\")  # Vérification du type de la classe\n"
   ]
  },
  {
   "cell_type": "code",
   "execution_count": null,
   "id": "b6024ae2",
   "metadata": {},
   "outputs": [],
   "source": []
  }
 ],
 "metadata": {
  "kernelspec": {
   "display_name": "Python 3 (ipykernel)",
   "language": "python",
   "name": "python3"
  },
  "language_info": {
   "codemirror_mode": {
    "name": "ipython",
    "version": 3
   },
   "file_extension": ".py",
   "mimetype": "text/x-python",
   "name": "python",
   "nbconvert_exporter": "python",
   "pygments_lexer": "ipython3",
   "version": "3.9.2"
  }
 },
 "nbformat": 4,
 "nbformat_minor": 5
}
